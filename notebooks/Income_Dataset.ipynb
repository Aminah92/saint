{
  "cells": [
    {
      "cell_type": "markdown",
      "metadata": {},
      "source": [
        "[![Open In Colab](https://colab.research.google.com/assets/colab-badge.svg)](https://colab.research.google.com/github/ogunlao/saint/blob/main/notebooks/Income_Dataset.ipynb)"
      ]
    },
    {
      "cell_type": "code",
      "execution_count": null,
      "metadata": {},
      "outputs": [],
      "source": []
    },
    {
      "cell_type": "markdown",
      "metadata": {},
      "source": [
        "N.B: This notebook shows usage for the previous version of saint. The version is kept in \"saint-orig\""
      ]
    },
    {
      "cell_type": "markdown",
      "metadata": {
        "id": "l7H4VC_zdczl"
      },
      "source": [
        "# Cloning the repo & installing requirements"
      ]
    },
    {
      "cell_type": "code",
      "execution_count": null,
      "metadata": {
        "id": "DMVBBekObwq_"
      },
      "outputs": [],
      "source": [
        "!git clone -b saint_orig --single-branch https://github.com/ogunlao/saint.git"
      ]
    },
    {
      "cell_type": "code",
      "execution_count": null,
      "metadata": {
        "id": "Y7O-jzWDboaR"
      },
      "outputs": [],
      "source": [
        "import pandas as pd\n",
        "import numpy as np"
      ]
    },
    {
      "cell_type": "code",
      "execution_count": null,
      "metadata": {
        "colab": {
          "base_uri": "https://localhost:8080/",
          "height": 1000
        },
        "id": "hmh4bpsVxrHK",
        "outputId": "2b99d426-db52-40f6-ef4b-39a2a8c97599"
      },
      "outputs": [],
      "source": [
        "!pip3 install -r 'saint/requirements.txt' "
      ]
    },
    {
      "cell_type": "markdown",
      "metadata": {
        "id": "Pidcp7qOdTgs"
      },
      "source": [
        "#Reading the data"
      ]
    },
    {
      "cell_type": "code",
      "execution_count": null,
      "metadata": {
        "colab": {
          "base_uri": "https://localhost:8080/"
        },
        "id": "dTfJI2HE1SJq",
        "outputId": "cc212162-e637-478b-97f0-b1fed980cafe"
      },
      "outputs": [],
      "source": [
        "# download income dataset (from kaggle) and unzip\n",
        "# save in 'data' directory\n",
        "\n",
        "!unzip income.zip -d data"
      ]
    },
    {
      "cell_type": "code",
      "execution_count": null,
      "metadata": {
        "id": "P7OimR_n98NJ"
      },
      "outputs": [],
      "source": [
        "train = pd.read_csv('/content/data/train.csv')\n",
        "\n",
        "test = pd.read_csv('/content/data/test.csv')"
      ]
    },
    {
      "cell_type": "code",
      "execution_count": null,
      "metadata": {
        "colab": {
          "base_uri": "https://localhost:8080/"
        },
        "id": "QsC0dkxg_oBX",
        "outputId": "0ed41d75-3ffa-4841-96f2-c3cf5106fc37"
      },
      "outputs": [],
      "source": [
        "train.columns"
      ]
    },
    {
      "cell_type": "markdown",
      "metadata": {
        "id": "mkd7aBwSc3Ll"
      },
      "source": [
        "# custom preprocessing"
      ]
    },
    {
      "cell_type": "code",
      "execution_count": null,
      "metadata": {
        "id": "f2OlQgEEp8kF"
      },
      "outputs": [],
      "source": [
        "train_y = train[['income_>50K']]\n",
        "\n",
        "train = train.drop(columns='income_>50K')"
      ]
    },
    {
      "cell_type": "code",
      "execution_count": null,
      "metadata": {
        "id": "-Ey4fw8KZ0si"
      },
      "outputs": [],
      "source": [
        "#concat train and test to preprocess\n",
        "df = pd.concat([train, test])\n"
      ]
    },
    {
      "cell_type": "code",
      "execution_count": null,
      "metadata": {
        "id": "DPw1Ixz6ebQd"
      },
      "outputs": [],
      "source": [
        "from saint.src.dataset import preprocess   "
      ]
    },
    {
      "cell_type": "code",
      "execution_count": null,
      "metadata": {
        "colab": {
          "base_uri": "https://localhost:8080/"
        },
        "id": "4dDi5fjVjSTm",
        "outputId": "4e8be076-d1c0-4450-c2e9-c806911aa060"
      },
      "outputs": [],
      "source": [
        "processed_data, train_y, no_num, no_cat, cats = preprocess(df, train_y, cls_token_idx=0)"
      ]
    },
    {
      "cell_type": "code",
      "execution_count": null,
      "metadata": {
        "colab": {
          "base_uri": "https://localhost:8080/"
        },
        "id": "vyhteZHbKy5q",
        "outputId": "7d4a7653-7de7-41c4-e650-f07ab9f1f549"
      },
      "outputs": [],
      "source": [
        "# This variables will need to be added to the config files in \"configs/data/bank_*\" before training\n",
        "\n",
        "print('no of numerical columns: ', no_num)\n",
        "print('no of categorical columns: ', no_cat)\n",
        "\n",
        "print('list of categories in each categorical column: ', cats)"
      ]
    },
    {
      "cell_type": "markdown",
      "metadata": {
        "id": "IrVwIjxkjJuU"
      },
      "source": [
        "# splitting dataset"
      ]
    },
    {
      "cell_type": "code",
      "execution_count": null,
      "metadata": {
        "id": "spSC124GjBPt"
      },
      "outputs": [],
      "source": [
        "from saint.src.dataset import generate_splits"
      ]
    },
    {
      "cell_type": "code",
      "execution_count": null,
      "metadata": {
        "id": "Li6j3FgWfCYu"
      },
      "outputs": [],
      "source": [
        "train = processed_data.iloc[:len(train)]\n",
        "test = processed_data.iloc[len(train):]\n",
        "\n",
        "train_indices, val_indices = generate_splits(dataset_size=len(train),\n",
        "                                             num_supervised_train_data = 'all'\n",
        "                                             validation_split=0.25, \n",
        "                                             test_split = 0,\n",
        "                                             random_seed=1234)\n",
        "\n",
        "x_train, y_train = train.iloc[train_indices], train_y.iloc[train_indices]\n",
        "x_val, y_val = train.iloc[val_indices], train_y.iloc[val_indices]"
      ]
    },
    {
      "cell_type": "code",
      "execution_count": null,
      "metadata": {
        "colab": {
          "base_uri": "https://localhost:8080/"
        },
        "id": "rDnOhzMTUKLd",
        "outputId": "b171434c-58f2-4e01-9b90-1bb49c0d4845"
      },
      "outputs": [],
      "source": [
        "y_train.values[32967]"
      ]
    },
    {
      "cell_type": "markdown",
      "metadata": {
        "id": "9Cuurut7q_WA"
      },
      "source": [
        "# Saving csv files"
      ]
    },
    {
      "cell_type": "code",
      "execution_count": null,
      "metadata": {
        "id": "jfj3NCtrrCNw"
      },
      "outputs": [],
      "source": [
        "x_train.to_csv('/content/saint/data/train.csv', index=False)\n",
        "y_train.to_csv('/content/saint/data/train_y.csv', index=False)\n",
        "x_val.to_csv('/content/saint/data/val.csv', index=False)\n",
        "y_val.to_csv('/content/saint/data/val_y.csv', index=False)\n"
      ]
    },
    {
      "cell_type": "code",
      "execution_count": null,
      "metadata": {
        "colab": {
          "base_uri": "https://localhost:8080/"
        },
        "id": "UiNtjwCXxOn4",
        "outputId": "e37b6fe6-0567-49df-de8f-5e349a8a3153"
      },
      "outputs": [],
      "source": [
        "%cd '/content/saint/'"
      ]
    },
    {
      "cell_type": "code",
      "execution_count": null,
      "metadata": {
        "colab": {
          "base_uri": "https://localhost:8080/"
        },
        "id": "yOPxOQnyww8I",
        "outputId": "cd1d7e46-bf62-4e03-c44f-d8d780008b68"
      },
      "outputs": [],
      "source": [
        "# run this cell to train saint model using config\n",
        "\n",
        "!python main.py"
      ]
    },
    {
      "cell_type": "code",
      "execution_count": null,
      "metadata": {
        "colab": {
          "base_uri": "https://localhost:8080/"
        },
        "id": "aMlhgAglMCDg",
        "outputId": "80f4a40e-0310-454f-9e0b-98ea0c7596d3"
      },
      "outputs": [],
      "source": [
        "!ls /content/saint/checkpoints/lightning_logs/version_0/checkpoints/"
      ]
    }
  ],
  "metadata": {
    "colab": {
      "collapsed_sections": [],
      "name": "SaintExperiments.ipynb",
      "provenance": []
    },
    "kernelspec": {
      "display_name": "Python 3",
      "name": "python3"
    },
    "language_info": {
      "name": "python"
    }
  },
  "nbformat": 4,
  "nbformat_minor": 2
}
